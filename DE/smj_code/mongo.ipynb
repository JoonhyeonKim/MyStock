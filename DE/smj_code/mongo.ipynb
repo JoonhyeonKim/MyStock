{
 "cells": [
  {
   "cell_type": "code",
   "execution_count": 1,
   "metadata": {},
   "outputs": [],
   "source": [
    "import json\n",
    "import datetime\n",
    "import time\n",
    "import yaml\n",
    "import pandas as pd\n",
    "import mojito\n",
    "import pprint\n",
    "import requests\n",
    "import pymongo\n",
    "from datetime import datetime, timedelta"
   ]
  },
  {
   "cell_type": "code",
   "execution_count": 2,
   "metadata": {},
   "outputs": [],
   "source": [
    "with open('C:/Users/cc843/Desktop/辛旻宗/주식프로젝트/key/config.yaml', encoding='UTF-8') as f:\n",
    "    _cfg = yaml.load(f, Loader=yaml.FullLoader)\n",
    "APP_KEY = _cfg['APP_KEY']\n",
    "APP_SECRET = _cfg['APP_SECRET']\n",
    "ACCESS_TOKEN = \"\"\n",
    "CANO = _cfg['CANO']\n",
    "ACNT_PRDT_CD = _cfg['ACNT_PRDT_CD']\n",
    "DISCORD_WEBHOOK_URL = _cfg['DISCORD_WEBHOOK_URL']\n",
    "URL_BASE = _cfg['URL_BASE']"
   ]
  },
  {
   "cell_type": "code",
   "execution_count": 11,
   "metadata": {},
   "outputs": [
    {
     "name": "stdout",
     "output_type": "stream",
     "text": [
      "4.6.2\n"
     ]
    }
   ],
   "source": [
    "import pymongo\n",
    "print(pymongo.__version__)\n"
   ]
  },
  {
   "cell_type": "code",
   "execution_count": 5,
   "metadata": {},
   "outputs": [],
   "source": [
    "broker = mojito.KoreaInvestment(\n",
    "    api_key=APP_KEY,\n",
    "    api_secret=APP_SECRET,\n",
    "    acc_no=\"50101465-01\",\n",
    "    mock=True\n",
    ")\n",
    "\n",
    "# resp = broker.fetch_ohlcv(\n",
    "#     symbol=\"005930\",\n",
    "#     timeframe='D',\n",
    "#     adj_price=True,\n",
    "#     #start_day=\"20200101\", \n",
    "#     end_day=\"20221230\" # end_day부터 앞에 100개의 데이터를 가져옴\n",
    "# )"
   ]
  },
  {
   "cell_type": "code",
   "execution_count": 3,
   "metadata": {},
   "outputs": [],
   "source": [
    "# 오늘 날짜 설정\n",
    "today = datetime.today().strftime(\"%Y%m%d\")"
   ]
  },
  {
   "cell_type": "code",
   "execution_count": 14,
   "metadata": {},
   "outputs": [],
   "source": [
    "from pymongo import MongoClient, WriteConcern"
   ]
  },
  {
   "cell_type": "code",
   "execution_count": 18,
   "metadata": {},
   "outputs": [
    {
     "name": "stdout",
     "output_type": "stream",
     "text": [
      "리셋\n",
      "Data inserted successfully.\n",
      "20230411\n",
      "리셋\n",
      "Data inserted successfully.\n",
      "20230720\n",
      "리셋\n",
      "Data inserted successfully.\n",
      "20231028\n",
      "리셋\n",
      "Data inserted successfully.\n",
      "20240205\n",
      "리셋\n",
      "Data inserted successfully.\n",
      "20240515\n"
     ]
    }
   ],
   "source": [
    "from pymongo import MongoClient, WriteConcern\n",
    "\n",
    "# 2022년 12월 30일부터 시작\n",
    "start_day = \"20230101\"\n",
    "end_day = start_day\n",
    "\n",
    "# 다음 데이터 추가\n",
    "while end_day <= today:\n",
    "    data = []  # 데이터 저장용 리스트 초기화\n",
    "    print(\"리셋\")\n",
    "\n",
    "    # 100개 일봉 데이터 요청\n",
    "    resp = broker.fetch_ohlcv(\n",
    "        symbol=\"005930\",\n",
    "        timeframe='D',\n",
    "        adj_price=True,\n",
    "        end_day=end_day\n",
    "    )\n",
    "\n",
    "    data = resp['output2']  # 응답에서 데이터 추출\n",
    "\n",
    "    # 다음 100일 날짜 설정\n",
    "    end_day = (datetime.strptime(end_day, \"%Y%m%d\") + timedelta(days=100)).strftime(\"%Y%m%d\")\n",
    "    print(end_day)\n",
    "    \n",
    "    # MongoDB에 적재\n",
    "    client = pymongo.MongoClient(\"mongodb://localhost:27017\")\n",
    "    db = client[\"root\"]  # db이름\n",
    "    users_collection = db[\"stock\"]  # 폴더이름\n",
    "\n",
    "    # 데이터 삽입\n",
    "    insert_result = users_collection.insert_many(data)\n",
    "    time.sleep(2)\n",
    "\n",
    "    while True:\n",
    "        # 삽입 결과 확인\n",
    "        if insert_result.acknowledged:\n",
    "            print(\"Data inserted successfully.\")\n",
    "            break  # 삽입이 성공하면 루프 종료\n",
    "        else:\n",
    "            print(\"Failed to insert data. Waiting for 10 seconds...\")\n",
    "            time.sleep(10)  # 10초 대기\n",
    "            continue  # 삽입이 실패하면 다시 시도\n"
   ]
  }
 ],
 "metadata": {
  "kernelspec": {
   "display_name": "Python 3",
   "language": "python",
   "name": "python3"
  },
  "language_info": {
   "codemirror_mode": {
    "name": "ipython",
    "version": 3
   },
   "file_extension": ".py",
   "mimetype": "text/x-python",
   "name": "python",
   "nbconvert_exporter": "python",
   "pygments_lexer": "ipython3",
   "version": "3.10.11"
  }
 },
 "nbformat": 4,
 "nbformat_minor": 2
}
